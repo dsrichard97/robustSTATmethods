{
 "cells": [
  {
   "cell_type": "code",
   "execution_count": 3,
   "id": "6b6f972b",
   "metadata": {},
   "outputs": [],
   "source": [
    "#!pip install xlsxwriter"
   ]
  },
  {
   "cell_type": "code",
   "execution_count": 4,
   "id": "8f1c3d53",
   "metadata": {},
   "outputs": [
    {
     "name": "stderr",
     "output_type": "stream",
     "text": [
      "/var/folders/tn/dsh755d90fvc89jt9kv19rzc0000gn/T/ipykernel_15352/2064045867.py:9: FutureWarning: YF.download() has changed argument auto_adjust default to True\n",
      "  data = yf.download(tickers, start=start, end=end, progress=False)\n"
     ]
    },
    {
     "name": "stdout",
     "output_type": "stream",
     "text": [
      "Excel file written to: prices_and_returns.xlsx\n"
     ]
    }
   ],
   "source": [
    "import yfinance as yf\n",
    "import pandas as pd\n",
    "\n",
    "tickers = [\"SPY\", \"AGG\", \"VNQ\", \"DBC\"]\n",
    "start   = \"2018-01-01\"\n",
    "end     = \"2024-12-31\"\n",
    "\n",
    "# 1. Download and isolate prices\n",
    "data = yf.download(tickers, start=start, end=end, progress=False)\n",
    "if isinstance(data.columns, pd.MultiIndex):\n",
    "    prices = data[\"Adj Close\"] if \"Adj Close\" in data.columns.get_level_values(0) else data[\"Close\"]\n",
    "else:\n",
    "    prices = data[\"Adj Close\"] if \"Adj Close\" in data.columns else data[\"Close\"]\n",
    "\n",
    "# 2. Compute daily returns\n",
    "returns = prices.pct_change().dropna()\n",
    "\n",
    "# 3. Write to Excel\n",
    "output_path = \"prices_and_returns.xlsx\"\n",
    "with pd.ExcelWriter(output_path, engine=\"xlsxwriter\") as writer:\n",
    "    prices.to_excel(writer, sheet_name=\"Prices\")\n",
    "    returns.to_excel(writer, sheet_name=\"Returns\")\n",
    "\n",
    "print(f\"Excel file written to: {output_path}\")\n"
   ]
  }
 ],
 "metadata": {
  "kernelspec": {
   "display_name": "base",
   "language": "python",
   "name": "python3"
  },
  "language_info": {
   "codemirror_mode": {
    "name": "ipython",
    "version": 3
   },
   "file_extension": ".py",
   "mimetype": "text/x-python",
   "name": "python",
   "nbconvert_exporter": "python",
   "pygments_lexer": "ipython3",
   "version": "3.10.10"
  }
 },
 "nbformat": 4,
 "nbformat_minor": 5
}
